{
 "cells": [
  {
   "cell_type": "code",
   "execution_count": 2,
   "metadata": {},
   "outputs": [
    {
     "name": "stderr",
     "output_type": "stream",
     "text": [
      "Matplotlib is building the font cache; this may take a moment.\n"
     ]
    }
   ],
   "source": [
    "import math\n",
    "import heapq\n",
    "\n",
    "import numpy as np\n",
    "import pandas as pd\n",
    "import seaborn as sns\n",
    "import matplotlib.pyplot as plt\n",
    "\n",
    "\n",
    "from time import time, sleep\n",
    "from PIL import Image, ImageDraw, ImageOps\n",
    "from IPython.display import display\n",
    "from IPython.display import Image as Img\n",
    "from heapq import heappop, heappush"
   ]
  },
  {
   "cell_type": "code",
   "execution_count": 21,
   "metadata": {},
   "outputs": [],
   "source": [
    "def draw_dynamic(solution, map_filename, output_filename = 'animated_trajectories'):\n",
    "    m = 30\n",
    "    quality = 6\n",
    "    \n",
    "    k = len(solution)\n",
    "    max_len = 0\n",
    "    for s in solution:\n",
    "        max_len = max(max_len, len(s))\n",
    "    \n",
    "    cells = []\n",
    "    height, width = 0, 0\n",
    "    with open(map_filename, \"r\") as map_file:\n",
    "        for i, line in enumerate(map_file):\n",
    "            if i == 0:\n",
    "                width, height = tuple(map(int, line.split()))\n",
    "            else:\n",
    "                cells.append(list(line.strip().split()))\n",
    "\n",
    "    h_im = height * m\n",
    "    w_im = width * m\n",
    "    \n",
    "    step = 0\n",
    "    images = []\n",
    "    agent_colors = [(np.random.randint(0, 255), np.random.randint(0, 255), np.random.randint(0, 255)) for _ in range(k)]\n",
    "              \n",
    "    while step < max_len:\n",
    "        for n in range(0, quality):\n",
    "            im = Image.new('RGB', (w_im, h_im), color = 'white')\n",
    "            draw = ImageDraw.Draw(im)\n",
    "            \n",
    "            # draw static obstacles\n",
    "            for i in range(height):\n",
    "                for j in range(width):\n",
    "                    if(cells[i][j] != '.'):\n",
    "                        draw.rectangle((j * m, i * m, (j + 1) * m - 1, (i + 1) * m - 1), fill=( 70, 80, 80 ))\n",
    "                \n",
    "            #draw agents\n",
    "            for i, path in enumerate(solution):\n",
    "                pathlen = len(path)\n",
    "                curr_node = path[min(pathlen - 1, step)]\n",
    "                next_node = path[min(pathlen - 1, step + min(n, 1))]\n",
    "\n",
    "                di = n * (next_node[0] - curr_node[0]) / quality\n",
    "                dj = n * (next_node[1] - curr_node[1]) / quality\n",
    "\n",
    "                draw.ellipse((float(curr_node[1] + dj + 0.2) * m, \n",
    "                            float(curr_node[0] + di + 0.2) * m, \n",
    "                            float(curr_node[1] + dj + 0.8) * m - 1, \n",
    "                            float(curr_node[0] + di + 0.8) * m - 1), \n",
    "                            fill=agent_colors[i], width=0)\n",
    "            \n",
    "            im = ImageOps.expand(im, border=2, fill='black')\n",
    "            images.append(im)\n",
    "        step += 1\n",
    "    images[0].save('./'+output_filename+'.png', save_all=True, append_images=images[1:], optimize=False, duration=500/quality, loop=0)\n",
    "    display(Img(filename = './'+output_filename+'.png'))"
   ]
  },
  {
   "cell_type": "code",
   "execution_count": 26,
   "metadata": {},
   "outputs": [],
   "source": [
    "solution = []\n",
    "with open(\"../results/res1.txt\", \"r\") as res:\n",
    "    for line in res:\n",
    "        path = reversed(list(line.split())[2:])\n",
    "        solution.append(np.array([int(p.strip(\"(), \")) for p in path]).reshape(-1, 2).tolist())"
   ]
  },
  {
   "cell_type": "code",
   "execution_count": 27,
   "metadata": {},
   "outputs": [
    {
     "data": {
      "image/png": "[encoded data removed]",
      "text/plain": [
       "<IPython.core.display.Image object>"
      ]
     },
     "metadata": {},
     "output_type": "display_data"
    }
   ],
   "source": [
    "draw_dynamic(solution, \"../samples/map1.txt\")"
   ]
  },
  {
   "cell_type": "code",
   "execution_count": null,
   "metadata": {},
   "outputs": [],
   "source": []
  }
 ],
 "metadata": {
  "kernelspec": {
   "display_name": "Python 3",
   "language": "python",
   "name": "python3"
  },
  "language_info": {
   "codemirror_mode": {
    "name": "ipython",
    "version": 3
   },
   "file_extension": ".py",
   "mimetype": "text/x-python",
   "name": "python",
   "nbconvert_exporter": "python",
   "pygments_lexer": "ipython3",
   "version": "3.10.6"
  },
  "orig_nbformat": 4,
  "vscode": {
   "interpreter": {
    "hash": "916dbcbb3f70747c44a77c7bcd40155683ae19c65e1c03b4aa3499c5328201f1"
   }
  }
 },
 "nbformat": 4,
 "nbformat_minor": 2
}
